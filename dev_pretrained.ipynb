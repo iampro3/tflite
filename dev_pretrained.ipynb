{
 "cells": [
  {
   "cell_type": "code",
   "execution_count": null,
   "metadata": {},
   "outputs": [],
   "source": [
    "# 터미널에서 pip install image"
   ]
  },
  {
   "cell_type": "code",
   "execution_count": 2,
   "metadata": {},
   "outputs": [],
   "source": [
    "from PIL import Image\n",
    "import os\n",
    "import numpy as np\n",
    "\n",
    "\n",
    "data_dir = \"./images/\"\n",
    "files = os.listdir(data_dir)\n",
    "images =[]\n",
    "for file in files:\n",
    "    path = os.path.join(data_dir, file)\n",
    "    images.append(np.array(Image.open(path)))"
   ]
  },
  {
   "cell_type": "code",
   "execution_count": 3,
   "metadata": {},
   "outputs": [],
   "source": [
    "# 이미지 전처리##\n",
    "# 이미지 크기를 일정한 크기로 리사이즈, RGB 채널\n",
    "# array 생성 : 저장하기 위해서\n",
    "import tensorflow as tf\n",
    "resized_images = np.array(np.zeros((len(images),224,224,3)))\n",
    "\n",
    "for i in range(len(images)):\n",
    "    resized_images[i] = tf.image.resize(images[i], [224,224])\n",
    "\n",
    "# 아래 함수에 전달한다.-모바일 넷에 적용할 함수\n",
    "preprocessed_images = tf.keras.applications.mobilenet_v2.preprocess_input(resized_images)"
   ]
  },
  {
   "cell_type": "code",
   "execution_count": 4,
   "metadata": {},
   "outputs": [
    {
     "name": "stdout",
     "output_type": "stream",
     "text": [
      "Downloading data from https://storage.googleapis.com/tensorflow/keras-applications/mobilenet_v2/mobilenet_v2_weights_tf_dim_ordering_tf_kernels_1.0_224.h5\n",
      "14536120/14536120 [==============================] - 1s 0us/step\n",
      "1/1 [==============================] - 1s 1s/step\n",
      "Downloading data from https://storage.googleapis.com/download.tensorflow.org/data/imagenet_class_index.json\n",
      "35363/35363 [==============================] - 0s 0us/step\n"
     ]
    }
   ],
   "source": [
    "# 사전학습 모델을 생성하고 이를 이용해서 모델 분류 결과 확인\n",
    "mobilenet_imagenet_model = tf.keras.applications.MobileNetV2(weights='imagenet')\n",
    "# 전처리한 'preprocessed_images'를 불러온다.\n",
    "y_pred = mobilenet_imagenet_model.predict(preprocessed_images)\n",
    "\n",
    "# 가장 높은 데이터 1개만 전달받는다.\n",
    "topK =1\n",
    "y_pred_top = tf.keras.applications.mobilenet_v2.decode_predictions(y_pred, top=topK)"
   ]
  },
  {
   "cell_type": "code",
   "execution_count": 5,
   "metadata": {},
   "outputs": [
    {
     "data": {
      "text/plain": [
       "[[('n03832673', 'notebook', 0.44874388)],\n",
       " [('n04467665', 'trailer_truck', 0.52359205)],\n",
       " [('n01944390', 'snail', 0.9236535)],\n",
       " [('n07747607', 'orange', 0.97127825)],\n",
       " [('n02980441', 'castle', 0.7764982)]]"
      ]
     },
     "execution_count": 5,
     "metadata": {},
     "output_type": "execute_result"
    }
   ],
   "source": [
    "y_pred_top"
   ]
  },
  {
   "cell_type": "code",
   "execution_count": 1,
   "metadata": {},
   "outputs": [
    {
     "ename": "NameError",
     "evalue": "name 'images' is not defined",
     "output_type": "error",
     "traceback": [
      "\u001b[1;31m---------------------------------------------------------------------------\u001b[0m",
      "\u001b[1;31mNameError\u001b[0m                                 Traceback (most recent call last)",
      "Cell \u001b[1;32mIn[1], line 3\u001b[0m\n\u001b[0;32m      1\u001b[0m \u001b[39mfrom\u001b[39;00m \u001b[39mmatplotlib\u001b[39;00m \u001b[39mimport\u001b[39;00m pyplot \u001b[39mas\u001b[39;00m plt\n\u001b[0;32m      2\u001b[0m \u001b[39mimport\u001b[39;00m \u001b[39mnumpy\u001b[39;00m \u001b[39mas\u001b[39;00m \u001b[39mnp\u001b[39;00m\n\u001b[1;32m----> 3\u001b[0m \u001b[39mfor\u001b[39;00m i \u001b[39min\u001b[39;00m \u001b[39mrange\u001b[39m(\u001b[39mlen\u001b[39m(images)):\n\u001b[0;32m      4\u001b[0m     plt\u001b[39m.\u001b[39mimshow(images[i])\n\u001b[0;32m      5\u001b[0m     plt\u001b[39m.\u001b[39mshow()\n",
      "\u001b[1;31mNameError\u001b[0m: name 'images' is not defined"
     ]
    }
   ],
   "source": [
    "from matplotlib import pyplot as plt\n",
    "import numpy as np\n",
    "for i in range(len(images)):\n",
    "    plt.imshow(images[i])\n",
    "    plt.show()\n",
    "\n",
    "    for i in range(topK):\n",
    "        print(f'{y_pred_top[i][k][1]} ({round(y_pred_top[i][k][2] * 100, 1)}%)')"
   ]
  },
  {
   "cell_type": "code",
   "execution_count": null,
   "metadata": {},
   "outputs": [],
   "source": [
    "# 전이학습 ####\n",
    "# 터미널에서 pip install tensorflow-datasets 를 입력해서\n",
    "# 데이터셋 - 강아지와 고양이-를 다운받는다."
   ]
  },
  {
   "cell_type": "code",
   "execution_count": 2,
   "metadata": {},
   "outputs": [
    {
     "name": "stderr",
     "output_type": "stream",
     "text": [
      "c:\\Users\\iii\\anaconda3\\envs\\tf_lite\\Lib\\site-packages\\tqdm\\auto.py:21: TqdmWarning: IProgress not found. Please update jupyter and ipywidgets. See https://ipywidgets.readthedocs.io/en/stable/user_install.html\n",
      "  from .autonotebook import tqdm as notebook_tqdm\n"
     ]
    }
   ],
   "source": [
    "import tensorflow_datasets as tfds\n",
    "tfds.disable_progress_bar()\n",
    "\n",
    "raw_train, raw_test =tfds.load(\n",
    "    'cats_vs_dogs',\n",
    "    # 데이터를 8:2로 나눔\n",
    "    split =['train[:80%]', 'train[20%:]'],\n",
    "    # input/label로 된 튜플 형태(true)로 반환된다.\n",
    "    as_supervised = True\n",
    ")"
   ]
  },
  {
   "cell_type": "code",
   "execution_count": 3,
   "metadata": {},
   "outputs": [],
   "source": [
    "import numpy as np\n",
    "import tensorflow as tf\n",
    "\n",
    "# resize 알고리즘은 bicubic알고리즘 활용\n",
    "def preprocess(image, label):\n",
    "    \n",
    "    out_image = tf.image.resize(image, [224,224], method=tf.image.ResizeMethod.BICUBIC)\n",
    "    out_image = tf.keras.applications.mobilenet_v2.preprocess_input(out_image)\n",
    "    return out_image, label\n",
    "batch_size =32\n",
    "#map 함수를 전달하고 batch함수를 사용해서 batch를 진행한다.\n",
    "train_batch = raw_train.map(preprocess).batch(batch_size)\n",
    "test_batch = raw_test.map(preprocess).batch(batch_size)"
   ]
  },
  {
   "cell_type": "code",
   "execution_count": 4,
   "metadata": {},
   "outputs": [
    {
     "ename": "NameError",
     "evalue": "name 'mobilenet' is not defined",
     "output_type": "error",
     "traceback": [
      "\u001b[1;31m---------------------------------------------------------------------------\u001b[0m",
      "\u001b[1;31mNameError\u001b[0m                                 Traceback (most recent call last)",
      "Cell \u001b[1;32mIn[4], line 1\u001b[0m\n\u001b[1;32m----> 1\u001b[0m mobilenet\n",
      "\u001b[1;31mNameError\u001b[0m: name 'mobilenet' is not defined"
     ]
    }
   ],
   "source": [
    "mobilenet_base.trainable=False\n",
    "mobilenet_model = tf.keras.Sequential([\n",
    "    mobilenet_base,\n",
    "    tf.keras.layers.GlobalAberatePooling2D(),\n",
    "    tf.keras.layers.Dense(1)\n",
    "])"
   ]
  },
  {
   "cell_type": "code",
   "execution_count": null,
   "metadata": {},
   "outputs": [],
   "source": [
    "_ba"
   ]
  }
 ],
 "metadata": {
  "kernelspec": {
   "display_name": "tf_lite",
   "language": "python",
   "name": "python3"
  },
  "language_info": {
   "codemirror_mode": {
    "name": "ipython",
    "version": 3
   },
   "file_extension": ".py",
   "mimetype": "text/x-python",
   "name": "python",
   "nbconvert_exporter": "python",
   "pygments_lexer": "ipython3",
   "version": "3.11.4"
  },
  "orig_nbformat": 4
 },
 "nbformat": 4,
 "nbformat_minor": 2
}
